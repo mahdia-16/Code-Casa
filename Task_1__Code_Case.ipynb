{
  "nbformat": 4,
  "nbformat_minor": 0,
  "metadata": {
    "colab": {
      "provenance": []
    },
    "kernelspec": {
      "name": "python3",
      "display_name": "Python 3"
    },
    "language_info": {
      "name": "python"
    }
  },
  "cells": [
    {
      "cell_type": "markdown",
      "source": [
        "\n",
        "Stock Price Prediction for 6 months\n",
        "\n"
      ],
      "metadata": {
        "id": "D4s8iXf0fgBK"
      }
    },
    {
      "cell_type": "code",
      "execution_count": 4,
      "metadata": {
        "id": "4OAQf4YsfI-C"
      },
      "outputs": [],
      "source": [
        "#import libraries\n",
        "import pandas as pd\n",
        "import numpy as np\n",
        "import matplotlib.pyplot as plt\n",
        "import yfinance as yf"
      ]
    },
    {
      "cell_type": "markdown",
      "source": [],
      "metadata": {
        "id": "S3fd6izgfeo2"
      }
    },
    {
      "cell_type": "code",
      "source": [
        "#load data\n",
        "dataset = yf.download('AAPL', start='2023-1-1', end='2023-6-1')\n"
      ],
      "metadata": {
        "colab": {
          "base_uri": "https://localhost:8080/"
        },
        "id": "7QbYinIBgwUy",
        "outputId": "873a806b-7470-4274-949b-96fb50a9ef79"
      },
      "execution_count": 44,
      "outputs": [
        {
          "output_type": "stream",
          "name": "stdout",
          "text": [
            "\r[*********************100%%**********************]  1 of 1 completed\n"
          ]
        }
      ]
    },
    {
      "cell_type": "code",
      "source": [
        "#print data file\n",
        "\n",
        "print(dataset)"
      ],
      "metadata": {
        "colab": {
          "base_uri": "https://localhost:8080/"
        },
        "id": "LQe9xcJuhN84",
        "outputId": "22525856-ff5b-48db-f491-3528afd71b3b"
      },
      "execution_count": 45,
      "outputs": [
        {
          "output_type": "stream",
          "name": "stdout",
          "text": [
            "                  Open        High         Low       Close   Adj Close  \\\n",
            "Date                                                                     \n",
            "2023-01-03  130.279999  130.899994  124.169998  125.070000  124.538666   \n",
            "2023-01-04  126.889999  128.660004  125.080002  126.360001  125.823189   \n",
            "2023-01-05  127.129997  127.769997  124.760002  125.019997  124.488876   \n",
            "2023-01-06  126.010002  130.289993  124.889999  129.619995  129.069321   \n",
            "2023-01-09  130.470001  133.410004  129.889999  130.149994  129.597061   \n",
            "...                ...         ...         ...         ...         ...   \n",
            "2023-05-24  171.089996  172.419998  170.520004  171.839996  171.608261   \n",
            "2023-05-25  172.410004  173.899994  171.690002  172.990005  172.756714   \n",
            "2023-05-26  173.320007  175.770004  173.110001  175.429993  175.193420   \n",
            "2023-05-30  176.960007  178.990005  176.570007  177.300003  177.060898   \n",
            "2023-05-31  177.330002  179.350006  176.759995  177.250000  177.010971   \n",
            "\n",
            "               Volume  \n",
            "Date                   \n",
            "2023-01-03  112117500  \n",
            "2023-01-04   89113600  \n",
            "2023-01-05   80962700  \n",
            "2023-01-06   87754700  \n",
            "2023-01-09   70790800  \n",
            "...               ...  \n",
            "2023-05-24   45143500  \n",
            "2023-05-25   56058300  \n",
            "2023-05-26   54835000  \n",
            "2023-05-30   55964400  \n",
            "2023-05-31   99625300  \n",
            "\n",
            "[103 rows x 6 columns]\n"
          ]
        }
      ]
    },
    {
      "cell_type": "code",
      "source": [
        "# make independent variable\n",
        "dataset['High-Low']=dataset['High']-dataset['Low']\n",
        "dataset['Open-Close']=dataset['Open']-dataset['Close']\n"
      ],
      "metadata": {
        "id": "T9mpfCUouMUf"
      },
      "execution_count": 46,
      "outputs": []
    },
    {
      "cell_type": "code",
      "source": [
        "#store independent variables\n",
        "x=dataset[['Open-Close','High-Low','Close']]"
      ],
      "metadata": {
        "id": "EJQeeVA5-qGj"
      },
      "execution_count": 47,
      "outputs": []
    },
    {
      "cell_type": "code",
      "source": [
        "print(x)"
      ],
      "metadata": {
        "colab": {
          "base_uri": "https://localhost:8080/"
        },
        "id": "J0Cupwty_Sc0",
        "outputId": "1ac04a88-44a8-4bd7-9d8c-0c37eed8c755"
      },
      "execution_count": 48,
      "outputs": [
        {
          "output_type": "stream",
          "name": "stdout",
          "text": [
            "            Open-Close  High-Low       Close\n",
            "Date                                        \n",
            "2023-01-03    5.209999  6.729996  125.070000\n",
            "2023-01-04    0.529999  3.580002  126.360001\n",
            "2023-01-05    2.110001  3.009995  125.019997\n",
            "2023-01-06   -3.609993  5.399994  129.619995\n",
            "2023-01-09    0.320007  3.520004  130.149994\n",
            "...                ...       ...         ...\n",
            "2023-05-24   -0.750000  1.899994  171.839996\n",
            "2023-05-25   -0.580002  2.209991  172.990005\n",
            "2023-05-26   -2.109985  2.660004  175.429993\n",
            "2023-05-30   -0.339996  2.419998  177.300003\n",
            "2023-05-31    0.080002  2.590012  177.250000\n",
            "\n",
            "[103 rows x 3 columns]\n"
          ]
        }
      ]
    },
    {
      "cell_type": "code",
      "source": [
        "#store target variable\n",
        "y=np.where(dataset.Close.shift(-1) > dataset.Close , 1, 0)\n"
      ],
      "metadata": {
        "id": "fKVgZgS9_Wrx"
      },
      "execution_count": 49,
      "outputs": []
    },
    {
      "cell_type": "code",
      "source": [
        "print(y)"
      ],
      "metadata": {
        "colab": {
          "base_uri": "https://localhost:8080/"
        },
        "id": "v3q-IBGyFFZe",
        "outputId": "64860065-5617-4b16-92d9-690cde6a1246"
      },
      "execution_count": 50,
      "outputs": [
        {
          "output_type": "stream",
          "name": "stdout",
          "text": [
            "[1 0 1 1 1 1 0 1 1 0 1 1 1 1 0 1 1 0 1 1 1 1 0 1 0 0 1 1 0 1 0 0 0 1 1 0 1\n",
            " 0 0 1 1 1 0 1 0 0 1 1 1 1 0 1 1 0 1 1 0 0 1 1 1 1 0 0 1 0 0 0 1 0 1 1 1 0\n",
            " 0 1 0 0 1 1 0 0 0 0 1 0 0 1 1 0 0 0 1 1 1 0 0 1 1 1 1 0 0]\n"
          ]
        }
      ]
    },
    {
      "cell_type": "code",
      "source": [
        "#persentage to split data\n",
        "persentage_split=0.9\n",
        "row=int(dataset.shape[0]*persentage_split)\n",
        "\n",
        "#train\n",
        "x_train=x[:row]\n",
        "y_train=y[:row]\n",
        "\n",
        "#test\n",
        "x_test=x[row:]\n",
        "y_test=y[row:]"
      ],
      "metadata": {
        "id": "6RWKu-pbFMWS"
      },
      "execution_count": 51,
      "outputs": []
    },
    {
      "cell_type": "code",
      "source": [
        "print(x)"
      ],
      "metadata": {
        "colab": {
          "base_uri": "https://localhost:8080/"
        },
        "id": "wngPgdAQ_ab2",
        "outputId": "c017e18d-8572-4d8c-bc5d-4c2b7cba7525"
      },
      "execution_count": 52,
      "outputs": [
        {
          "output_type": "stream",
          "name": "stdout",
          "text": [
            "            Open-Close  High-Low       Close\n",
            "Date                                        \n",
            "2023-01-03    5.209999  6.729996  125.070000\n",
            "2023-01-04    0.529999  3.580002  126.360001\n",
            "2023-01-05    2.110001  3.009995  125.019997\n",
            "2023-01-06   -3.609993  5.399994  129.619995\n",
            "2023-01-09    0.320007  3.520004  130.149994\n",
            "...                ...       ...         ...\n",
            "2023-05-24   -0.750000  1.899994  171.839996\n",
            "2023-05-25   -0.580002  2.209991  172.990005\n",
            "2023-05-26   -2.109985  2.660004  175.429993\n",
            "2023-05-30   -0.339996  2.419998  177.300003\n",
            "2023-05-31    0.080002  2.590012  177.250000\n",
            "\n",
            "[103 rows x 3 columns]\n"
          ]
        }
      ]
    },
    {
      "cell_type": "code",
      "source": [
        "print(x_train)\n"
      ],
      "metadata": {
        "colab": {
          "base_uri": "https://localhost:8080/"
        },
        "id": "aZOMOgIp_r0x",
        "outputId": "1b1e9937-0d44-45a9-e112-620c2dfb9a41"
      },
      "execution_count": 53,
      "outputs": [
        {
          "output_type": "stream",
          "name": "stdout",
          "text": [
            "            Open-Close  High-Low       Close\n",
            "Date                                        \n",
            "2023-01-03    5.209999  6.729996  125.070000\n",
            "2023-01-04    0.529999  3.580002  126.360001\n",
            "2023-01-05    2.110001  3.009995  125.019997\n",
            "2023-01-06   -3.609993  5.399994  129.619995\n",
            "2023-01-09    0.320007  3.520004  130.149994\n",
            "...                ...       ...         ...\n",
            "2023-05-09    1.279999  1.939987  171.770004\n",
            "2023-05-10   -0.539993  2.130005  173.559998\n",
            "2023-05-11    0.100006  2.419998  173.750000\n",
            "2023-05-12    1.049988  3.059998  172.570007\n",
            "2023-05-15    1.089996  1.740005  172.070007\n",
            "\n",
            "[92 rows x 3 columns]\n"
          ]
        }
      ]
    },
    {
      "cell_type": "code",
      "source": [
        "print(x_test)\n"
      ],
      "metadata": {
        "colab": {
          "base_uri": "https://localhost:8080/"
        },
        "id": "EknrM_Ed_zOf",
        "outputId": "87014b4d-0d0a-4a22-9aeb-1f78735e863b"
      },
      "execution_count": 54,
      "outputs": [
        {
          "output_type": "stream",
          "name": "stdout",
          "text": [
            "            Open-Close  High-Low       Close\n",
            "Date                                        \n",
            "2023-05-16   -0.080002  1.339996  172.070007\n",
            "2023-05-17   -0.979996  2.509995  172.690002\n",
            "2023-05-18   -2.050003  2.660004  175.050003\n",
            "2023-05-19    1.229996  1.449997  175.160004\n",
            "2023-05-22   -0.220001  1.260010  174.199997\n",
            "2023-05-23    1.570007  2.100006  171.559998\n",
            "2023-05-24   -0.750000  1.899994  171.839996\n",
            "2023-05-25   -0.580002  2.209991  172.990005\n",
            "2023-05-26   -2.109985  2.660004  175.429993\n",
            "2023-05-30   -0.339996  2.419998  177.300003\n",
            "2023-05-31    0.080002  2.590012  177.250000\n"
          ]
        }
      ]
    },
    {
      "cell_type": "code",
      "source": [
        "#build our model\n",
        "\n",
        "!pip install sklearn\n",
        "from sklearn.svm import SVC\n",
        "model=SVC()\n",
        "model.fit(x_train[['Open-Close','High-Low']], y_train)"
      ],
      "metadata": {
        "id": "zhuBJzW7_3H9"
      },
      "execution_count": null,
      "outputs": []
    },
    {
      "cell_type": "code",
      "source": [
        "# score train\n",
        "model.score(x_train[['Open-Close','High-Low']], y_train)"
      ],
      "metadata": {
        "colab": {
          "base_uri": "https://localhost:8080/"
        },
        "id": "-JEW1ZOq_-T2",
        "outputId": "b52b65b9-f2c7-4644-9a6c-e1689e5f1331"
      },
      "execution_count": 56,
      "outputs": [
        {
          "output_type": "execute_result",
          "data": {
            "text/plain": [
              "0.5652173913043478"
            ]
          },
          "metadata": {},
          "execution_count": 56
        }
      ]
    },
    {
      "cell_type": "code",
      "source": [
        "#score test\n",
        "model.score(x_test[['Open-Close','High-Low']], y_test)"
      ],
      "metadata": {
        "colab": {
          "base_uri": "https://localhost:8080/"
        },
        "id": "bj6tHDofAHMk",
        "outputId": "366b98e4-f7bd-45ae-d323-cff581e263bc"
      },
      "execution_count": 57,
      "outputs": [
        {
          "output_type": "execute_result",
          "data": {
            "text/plain": [
              "0.6363636363636364"
            ]
          },
          "metadata": {},
          "execution_count": 57
        }
      ]
    },
    {
      "cell_type": "code",
      "source": [
        "# prediction\n",
        "dataset['predictions']=model.predict(x[['Open-Close','High-Low']])\n",
        "print(dataset['predictions'])"
      ],
      "metadata": {
        "colab": {
          "base_uri": "https://localhost:8080/"
        },
        "id": "WkCmDHpEAIBl",
        "outputId": "8eabff1b-32db-430c-f522-88fa57f7e510"
      },
      "execution_count": 58,
      "outputs": [
        {
          "output_type": "stream",
          "name": "stdout",
          "text": [
            "Date\n",
            "2023-01-03    1\n",
            "2023-01-04    1\n",
            "2023-01-05    1\n",
            "2023-01-06    1\n",
            "2023-01-09    1\n",
            "             ..\n",
            "2023-05-24    1\n",
            "2023-05-25    1\n",
            "2023-05-26    1\n",
            "2023-05-30    1\n",
            "2023-05-31    1\n",
            "Name: predictions, Length: 103, dtype: int64\n"
          ]
        }
      ]
    },
    {
      "cell_type": "code",
      "source": [
        "#todays inputs\n",
        "dataset['In']=dataset['Close'].pct_change(1)\n",
        "print(dataset['In'])"
      ],
      "metadata": {
        "colab": {
          "base_uri": "https://localhost:8080/"
        },
        "id": "GQcDcER6AL8-",
        "outputId": "c2bd8f11-3983-49c4-d0aa-1c5a72cebc87"
      },
      "execution_count": 59,
      "outputs": [
        {
          "output_type": "stream",
          "name": "stdout",
          "text": [
            "Date\n",
            "2023-01-03         NaN\n",
            "2023-01-04    0.010314\n",
            "2023-01-05   -0.010605\n",
            "2023-01-06    0.036794\n",
            "2023-01-09    0.004089\n",
            "                ...   \n",
            "2023-05-24    0.001632\n",
            "2023-05-25    0.006692\n",
            "2023-05-26    0.014105\n",
            "2023-05-30    0.010660\n",
            "2023-05-31   -0.000282\n",
            "Name: In, Length: 103, dtype: float64\n"
          ]
        }
      ]
    },
    {
      "cell_type": "code",
      "source": [
        "#future inputs\n",
        "dataset['Future']=dataset['predictions'].shift(1)*dataset['In']\n",
        "print(dataset['Future'])"
      ],
      "metadata": {
        "colab": {
          "base_uri": "https://localhost:8080/"
        },
        "id": "PlHjvxx8AQOG",
        "outputId": "eeb38ed2-4072-436f-bdf4-f3fb0214f3bd"
      },
      "execution_count": 60,
      "outputs": [
        {
          "output_type": "stream",
          "name": "stdout",
          "text": [
            "Date\n",
            "2023-01-03         NaN\n",
            "2023-01-04    0.010314\n",
            "2023-01-05   -0.010605\n",
            "2023-01-06    0.036794\n",
            "2023-01-09    0.004089\n",
            "                ...   \n",
            "2023-05-24    0.001632\n",
            "2023-05-25    0.006692\n",
            "2023-05-26    0.014105\n",
            "2023-05-30    0.010660\n",
            "2023-05-31   -0.000282\n",
            "Name: Future, Length: 103, dtype: float64\n"
          ]
        }
      ]
    },
    {
      "cell_type": "code",
      "source": [
        "# sum today\n",
        "dataset['sum_In_data']=dataset['In'].cumsum()\n",
        "# sum future\n",
        "dataset['sum_Future_data']=dataset['Future'].cumsum()\n"
      ],
      "metadata": {
        "id": "iWVwWq68AUTA"
      },
      "execution_count": 61,
      "outputs": []
    },
    {
      "cell_type": "code",
      "source": [
        "#plotting\n",
        "plt.figure(figsize=(10,8))\n",
        "plt.title('Inputs')\n",
        "plt.plot(dataset['sum_In_data'],color='blue',label='Today Returns')\n",
        "plt.plot(dataset['sum_Future_data'],color='red',label='Future Returns')\n",
        "plt.xticks(rotation = 45)\n",
        "plt.legend()\n",
        "plt.show()"
      ],
      "metadata": {
        "colab": {
          "base_uri": "https://localhost:8080/",
          "height": 735
        },
        "id": "_Ijk_JG_AYVq",
        "outputId": "f9cfdf0b-499d-4263-a69c-58a4cf036558"
      },
      "execution_count": 62,
      "outputs": [
        {
          "output_type": "display_data",
          "data": {
            "text/plain": [
              "<Figure size 1000x800 with 1 Axes>"
            ],
            "image/png": "[encoded data removed]"
          },
          "metadata": {}
        }
      ]
    }
  ]
}